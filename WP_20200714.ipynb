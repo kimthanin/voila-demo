{
 "cells": [
  {
   "cell_type": "markdown",
   "metadata": {},
   "source": [
    "# standardization"
   ]
  },
  {
   "cell_type": "code",
   "execution_count": 1,
   "metadata": {},
   "outputs": [
    {
     "name": "stdout",
     "output_type": "stream",
     "text": [
      "N1BK [876.875       21.86666667]\n",
      "N1BT [750.     2.49]\n",
      "N1DG [941.48839893  45.80035714]\n",
      "N1DK [904.86146406  17.89458333]\n",
      "N1NK [1013.46030773  120.25225   ]\n",
      "N1PR [898.44021213  65.85034483]\n",
      "N1TC [1008.04639298   58.35473684]\n",
      "N1TN [898.41315946  60.93421053]\n",
      "N1WT [996.02415459  55.795     ]\n",
      "N1YS [950.61294261  17.664     ]\n",
      "N2KP [956.4312447 482.3605   ]\n",
      "N2M [1048.98461538   32.57466667]\n",
      "N2NS [990.5    44.118]\n",
      "N2ST [1032.22465464  370.36809524]\n",
      "N2WP [1000.     1.1]\n",
      "N3DT [1065.39710551  365.04965909]\n",
      "N3NB [1043.70828916  622.58344828]\n",
      "N3TK [970.72750362 484.28631579]\n",
      "N3WR [1004.71072431   85.37037037]\n",
      "UC1 [  838.67367003 11571.68394366]\n",
      "UC2 [1146.31544417 6623.60671212]\n",
      "UC3 [961.7750929  817.76363636]\n",
      "UC4 [1139.14706806 4751.57555556]\n",
      "UC5 [800.         128.03333333]\n",
      "UC6 [1000.63301922  600.54888889]\n",
      "UC7 [890.98935909 105.66657143]\n",
      "UC8 [923.33333333   6.71      ]\n",
      "UC9 [500.     4.64]\n",
      "W1DT [1022.15487334  252.7205    ]\n",
      "W1SR [1107.30994152  107.4125    ]\n"
     ]
    }
   ],
   "source": [
    "import pandas as pd; import numpy as np; wpg=pd.read_csv('wpg.csv')\n",
    "from sklearn.preprocessing import StandardScaler\n",
    "scaler,wpgs = {},{}\n",
    "for c in wpg.Channel.unique():\n",
    "    scaler[c] = {}\n",
    "    scaler[c] = StandardScaler()\n",
    "    wpgs[c] = wpg.loc[wpg.Channel==c].copy()\n",
    "    wps = wpgs[c][['Baht','Ton']]\n",
    "    scaler[c].fit(wps)\n",
    "    print(c, scaler[c].mean_)\n",
    "    wpgs[c][['Baht','Ton']] = scaler[c].transform(wps)\n",
    "    wpgs[c]=pd.melt(wpgs[c], id_vars=['Zone','Channel','Year','Month'],var_name='Type', value_name='Value')"
   ]
  },
  {
   "cell_type": "markdown",
   "metadata": {},
   "source": [
    "# plotly"
   ]
  },
  {
   "cell_type": "code",
   "execution_count": 2,
   "metadata": {},
   "outputs": [],
   "source": [
    "f={}\n",
    "import plotly.express as px\n",
    "import plotly.graph_objects as go\n",
    "for c in wpg.Channel.unique():\n",
    "    fig  = px.line(wpgs[c], x='Month', y='Value', facet_row='Type', color='Year')\n",
    "    f[c] = go.FigureWidget(fig)"
   ]
  },
  {
   "cell_type": "markdown",
   "metadata": {},
   "source": [
    "# webapp"
   ]
  },
  {
   "cell_type": "code",
   "execution_count": 3,
   "metadata": {},
   "outputs": [],
   "source": [
    "import ipyvuetify as v\n",
    "import ipywidgets as widgets"
   ]
  },
  {
   "cell_type": "code",
   "execution_count": null,
   "metadata": {},
   "outputs": [],
   "source": [
    "content_main =\n",
    "v.Tabs(_metadata={'mount_id': 'content-main'}, children=[\n",
    "    v.Tab(children=['Tab1']),\n",
    "    v.Tab(children=['Tab2']),\n",
    "    v.TabItem(children=[\n",
    "        v.Layout(row=True, wrap=True, align_center=True, children=[\n",
    "            v.Flex(xs12=True, lg6=True, xl4=True, children=[\n",
    "                f[c] for c in wpg.Channel.unique()\n",
    "            ]),\n",
    "        ])\n",
    "    ]),\n",
    "    v.TabItem(children=[\n",
    "        v.Container(children=['Lorum ipsum'])\n",
    "    ])\n",
    "])"
   ]
  },
  {
   "cell_type": "markdown",
   "metadata": {},
   "source": [
    "# BKP"
   ]
  },
  {
   "cell_type": "raw",
   "metadata": {},
   "source": [
    "from bqplot import pyplot as plt\n",
    "import ipywidgets as widgets\n",
    "import numpy as np"
   ]
  },
  {
   "cell_type": "raw",
   "metadata": {},
   "source": [
    "# generate some fake data\n",
    "np.random.seed(0)\n",
    "n = 2000\n",
    "x = np.linspace(0.0, 10.0, n)\n",
    "y = np.cumsum(np.random.randn(n)*10).astype(int)"
   ]
  },
  {
   "cell_type": "raw",
   "metadata": {},
   "source": [
    "# create a bqplot figure\n",
    "fig_hist = plt.figure(title='Histogram')\n",
    "hist = plt.hist(y, bins=25)\n",
    "fig_hist"
   ]
  },
  {
   "cell_type": "raw",
   "metadata": {},
   "source": [
    "# slider = widgets.IntSlider(min=1, max=100, v_model=30)\n",
    "# widgets.link((fig_hist, 'bins'), (slider, 'value'))\n",
    "# slider\n",
    "import ipyvuetify as v\n",
    "slider = v.Slider(thumb_label='always', class_=\"px-4\", v_model=30)\n",
    "widgets.link((slider, 'v_model'), (hist, 'bins'))\n",
    "slider"
   ]
  },
  {
   "cell_type": "raw",
   "metadata": {},
   "source": [
    "fig_lines = plt.figure( title='Line Chart')\n",
    "lines = plt.plot(x, y)\n",
    "fig_lines"
   ]
  },
  {
   "cell_type": "raw",
   "metadata": {},
   "source": [
    "selector = plt.brush_int_selector()\n",
    "def update_range(*ignore):\n",
    "    if selector.selected is not None and len(selector.selected) == 2:\n",
    "        xmin, xmax = selector.selected\n",
    "        mask = (x > xmin) & (x < xmax)\n",
    "        hist.sample = y[mask]\n",
    "selector.observe(update_range, 'selected')        "
   ]
  },
  {
   "cell_type": "raw",
   "metadata": {},
   "source": [
    "line_styles = ['dashed', 'solid', 'dotted']\n",
    "widget_line_styles = v.Select(items=line_styles, label='line style', v_model=line_styles[0])\n",
    "widget_line_styles"
   ]
  },
  {
   "cell_type": "raw",
   "metadata": {},
   "source": [
    "widgets.link((widget_line_styles, 'v_model'), (lines, 'line_style'));"
   ]
  },
  {
   "cell_type": "raw",
   "metadata": {},
   "source": [
    "v.Layout(pa_4=True, _metadata={'mount_id': 'content-nav'}, column=True, children=[slider, widget_line_styles]);"
   ]
  },
  {
   "cell_type": "raw",
   "metadata": {},
   "source": [
    "fig_hist.layout.width = 'auto'\n",
    "fig_hist.layout.height = 'auto'\n",
    "fig_hist.layout.min_height = '300px' # so it still shows nicely in the notebook\n",
    "\n",
    "fig_lines.layout.width = 'auto'\n",
    "fig_lines.layout.height = 'auto'\n",
    "fig_lines.layout.min_height = '300px' # so it still shows nicely in the notebook\n",
    "\n",
    "\n",
    "content_main =  v.Layout(\n",
    "                    _metadata={'mount_id': 'content-main'},\n",
    "                    row=True, wrap=True, align_center=True, children=[\n",
    "                    v.Flex(xs12=True, lg6=True, children=[\n",
    "                        fig_hist\n",
    "                    ]),\n",
    "                    v.Flex(xs12=True, lg6=True, children=[\n",
    "                        fig_lines\n",
    "                    ]),\n",
    "                ])\n",
    "\n",
    "# no need to display content_main for the voila-vuetify template\n",
    "# but might be useful for debugging\n",
    "# content_main"
   ]
  }
 ],
 "metadata": {
  "kernelspec": {
   "display_name": "Python 3",
   "language": "python",
   "name": "python3"
  },
  "language_info": {
   "codemirror_mode": {
    "name": "ipython",
    "version": 3
   },
   "file_extension": ".py",
   "mimetype": "text/x-python",
   "name": "python",
   "nbconvert_exporter": "python",
   "pygments_lexer": "ipython3",
   "version": "3.7.4"
  }
 },
 "nbformat": 4,
 "nbformat_minor": 2
}
